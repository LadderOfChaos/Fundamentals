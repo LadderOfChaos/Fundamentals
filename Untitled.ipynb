{
 "cells": [
  {
   "cell_type": "code",
   "execution_count": null,
   "metadata": {},
   "outputs": [],
   "source": [
    "Exercise: Regular Expressions\n",
    "Problems for exercise and homework for the Python Fundamentals Course @SoftUni.\n",
    "Submit your solutions in the SoftUni judge system at https://judge.softuni.bg/Contests/1743\n",
    "1.\tCapture the Numbers\n",
    "Write a program that finds all numbers in a sequence of strings.\n",
    "The output is all the numbers, extracted and printed on a single line – each separated by a single space.\n",
    "Examples\n",
    "Input\tOutput\n",
    "The300\n",
    "What is that?\n",
    "I think it's the 3rd movie \n",
    "Lets watch it at 22:45\t300 3 22 45\n",
    "\t\n",
    "Input\tOutput\n",
    "123a456\n",
    "789b987\n",
    "654c321\n",
    "0\t123 456 789 987 654 321 0\n",
    "Input\tOutput\n",
    "Let's go11!!!11!\n",
    "Okey!1!\t11 11 1\n"
   ]
  },
  {
   "cell_type": "code",
   "execution_count": 4,
   "metadata": {},
   "outputs": [
    {
     "name": "stdin",
     "output_type": "stream",
     "text": [
      " 1\n",
      " 1\n"
     ]
    },
    {
     "name": "stdout",
     "output_type": "stream",
     "text": [
      "2\n"
     ]
    }
   ],
   "source": [
    "a = int(input())\n",
    "b = int(input())\n",
    "if a == b: \n",
    "    print(a+b)"
   ]
  },
  {
   "cell_type": "code",
   "execution_count": null,
   "metadata": {},
   "outputs": [],
   "source": []
  }
 ],
 "metadata": {
  "kernelspec": {
   "display_name": "Python 3",
   "language": "python",
   "name": "python3"
  },
  "language_info": {
   "codemirror_mode": {
    "name": "ipython",
    "version": 3
   },
   "file_extension": ".py",
   "mimetype": "text/x-python",
   "name": "python",
   "nbconvert_exporter": "python",
   "pygments_lexer": "ipython3",
   "version": "3.8.2"
  }
 },
 "nbformat": 4,
 "nbformat_minor": 4
}
